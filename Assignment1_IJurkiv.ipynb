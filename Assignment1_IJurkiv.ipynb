{
  "nbformat": 4,
  "nbformat_minor": 0,
  "metadata": {
    "colab": {
      "name": "Assignment1_IJurkiv",
      "version": "0.3.2",
      "provenance": [],
      "collapsed_sections": []
    },
    "kernelspec": {
      "display_name": "Python 3",
      "language": "python",
      "name": "python3"
    }
  },
  "cells": [
    {
      "metadata": {
        "id": "5xCaInE762et",
        "colab_type": "code",
        "colab": {}
      },
      "cell_type": "code",
      "source": [
        "import pandas as pd\n",
        "from sklearn.model_selection import train_test_split\n",
        "%matplotlib inline "
      ],
      "execution_count": 0,
      "outputs": []
    },
    {
      "metadata": {
        "id": "KyKJwhcs62e1",
        "colab_type": "code",
        "colab": {}
      },
      "cell_type": "code",
      "source": [
        "df=pd.read_csv(\"https://raw.githubusercontent.com/nick-edu/dmmldl/master/ForestFires.csv\")"
      ],
      "execution_count": 0,
      "outputs": []
    },
    {
      "metadata": {
        "id": "BV0Vd-wh62e8",
        "colab_type": "code",
        "outputId": "ad37f300-ddf4-436a-9a09-8345cfef652a",
        "colab": {
          "base_uri": "https://localhost:8080/",
          "height": 34
        }
      },
      "cell_type": "code",
      "source": [
        "#A. Exploratory data analysis \n",
        "df.shape\n",
        "#a total of 13 columns and 517 rows "
      ],
      "execution_count": 46,
      "outputs": [
        {
          "output_type": "execute_result",
          "data": {
            "text/plain": [
              "(517, 13)"
            ]
          },
          "metadata": {
            "tags": []
          },
          "execution_count": 46
        }
      ]
    },
    {
      "metadata": {
        "id": "76ZIkkFcGDB1",
        "colab_type": "code",
        "outputId": "d3c4ce35-ffd1-4b48-90f1-982426913d63",
        "colab": {
          "base_uri": "https://localhost:8080/",
          "height": 255
        }
      },
      "cell_type": "code",
      "source": [
        "df.isnull().any()\n",
        "#no missing values"
      ],
      "execution_count": 47,
      "outputs": [
        {
          "output_type": "execute_result",
          "data": {
            "text/plain": [
              "X        False\n",
              "Y        False\n",
              "month    False\n",
              "day      False\n",
              "FFMC     False\n",
              "DMC      False\n",
              "DC       False\n",
              "ISI      False\n",
              "temp     False\n",
              "RH       False\n",
              "wind     False\n",
              "rain     False\n",
              "area     False\n",
              "dtype: bool"
            ]
          },
          "metadata": {
            "tags": []
          },
          "execution_count": 47
        }
      ]
    },
    {
      "metadata": {
        "id": "ef7TI2ka62fK",
        "colab_type": "code",
        "outputId": "f24d23fe-db6b-4b84-abd0-7bd403297ef7",
        "colab": {
          "base_uri": "https://localhost:8080/",
          "height": 282
        }
      },
      "cell_type": "code",
      "source": [
        "df[\"wind\"].plot.hist()\n",
        "\n",
        "#histogram plot for \"wind\" column"
      ],
      "execution_count": 48,
      "outputs": [
        {
          "output_type": "execute_result",
          "data": {
            "text/plain": [
              "<matplotlib.axes._subplots.AxesSubplot at 0x7fad7fe9bf28>"
            ]
          },
          "metadata": {
            "tags": []
          },
          "execution_count": 48
        },
        {
          "output_type": "display_data",
          "data": {
            "image/png": "[encoded data removed]",
            "text/plain": [
              "<Figure size 432x288 with 1 Axes>"
            ]
          },
          "metadata": {
            "tags": []
          }
        }
      ]
    },
    {
      "metadata": {
        "id": "Uzg1hcsU62fV",
        "colab_type": "code",
        "outputId": "1d2ea58c-7a69-4f4e-d9ea-61c197c543e9",
        "colab": {
          "base_uri": "https://localhost:8080/",
          "height": 333
        }
      },
      "cell_type": "code",
      "source": [
        "df.plot.scatter(\"temp\", \"RH\")\n",
        "\n",
        "#scatter plot of \"temp\" against \"RH\" "
      ],
      "execution_count": 49,
      "outputs": [
        {
          "output_type": "stream",
          "text": [
            "'c' argument looks like a single numeric RGB or RGBA sequence, which should be avoided as value-mapping will have precedence in case its length matches with 'x' & 'y'.  Please use a 2-D array with a single row if you really want to specify the same RGB or RGBA value for all points.\n"
          ],
          "name": "stderr"
        },
        {
          "output_type": "execute_result",
          "data": {
            "text/plain": [
              "<matplotlib.axes._subplots.AxesSubplot at 0x7fad7fe1d438>"
            ]
          },
          "metadata": {
            "tags": []
          },
          "execution_count": 49
        },
        {
          "output_type": "display_data",
          "data": {
            "image/png": "[encoded data removed]",
            "text/plain": [
              "<Figure size 432x288 with 1 Axes>"
            ]
          },
          "metadata": {
            "tags": []
          }
        }
      ]
    },
    {
      "metadata": {
        "id": "G7DQ0-IY62ff",
        "colab_type": "code",
        "outputId": "23811ba2-7aa6-4911-e5d7-d42b59422645",
        "colab": {
          "base_uri": "https://localhost:8080/",
          "height": 204
        }
      },
      "cell_type": "code",
      "source": [
        "#B Decision trees \n",
        "\n",
        "#before fitting the decision tree regression model, check data types \n",
        "df.head()"
      ],
      "execution_count": 50,
      "outputs": [
        {
          "output_type": "execute_result",
          "data": {
            "text/html": [
              "<div>\n",
              "<style scoped>\n",
              "    .dataframe tbody tr th:only-of-type {\n",
              "        vertical-align: middle;\n",
              "    }\n",
              "\n",
              "    .dataframe tbody tr th {\n",
              "        vertical-align: top;\n",
              "    }\n",
              "\n",
              "    .dataframe thead th {\n",
              "        text-align: right;\n",
              "    }\n",
              "</style>\n",
              "<table border=\"1\" class=\"dataframe\">\n",
              "  <thead>\n",
              "    <tr style=\"text-align: right;\">\n",
              "      <th></th>\n",
              "      <th>X</th>\n",
              "      <th>Y</th>\n",
              "      <th>month</th>\n",
              "      <th>day</th>\n",
              "      <th>FFMC</th>\n",
              "      <th>DMC</th>\n",
              "      <th>DC</th>\n",
              "      <th>ISI</th>\n",
              "      <th>temp</th>\n",
              "      <th>RH</th>\n",
              "      <th>wind</th>\n",
              "      <th>rain</th>\n",
              "      <th>area</th>\n",
              "    </tr>\n",
              "  </thead>\n",
              "  <tbody>\n",
              "    <tr>\n",
              "      <th>0</th>\n",
              "      <td>7</td>\n",
              "      <td>5</td>\n",
              "      <td>mar</td>\n",
              "      <td>fri</td>\n",
              "      <td>86.2</td>\n",
              "      <td>26.2</td>\n",
              "      <td>94.3</td>\n",
              "      <td>5.1</td>\n",
              "      <td>8.2</td>\n",
              "      <td>51</td>\n",
              "      <td>6.7</td>\n",
              "      <td>0.0</td>\n",
              "      <td>0.0</td>\n",
              "    </tr>\n",
              "    <tr>\n",
              "      <th>1</th>\n",
              "      <td>7</td>\n",
              "      <td>4</td>\n",
              "      <td>oct</td>\n",
              "      <td>tue</td>\n",
              "      <td>90.6</td>\n",
              "      <td>35.4</td>\n",
              "      <td>669.1</td>\n",
              "      <td>6.7</td>\n",
              "      <td>18.0</td>\n",
              "      <td>33</td>\n",
              "      <td>0.9</td>\n",
              "      <td>0.0</td>\n",
              "      <td>0.0</td>\n",
              "    </tr>\n",
              "    <tr>\n",
              "      <th>2</th>\n",
              "      <td>7</td>\n",
              "      <td>4</td>\n",
              "      <td>oct</td>\n",
              "      <td>sat</td>\n",
              "      <td>90.6</td>\n",
              "      <td>43.7</td>\n",
              "      <td>686.9</td>\n",
              "      <td>6.7</td>\n",
              "      <td>14.6</td>\n",
              "      <td>33</td>\n",
              "      <td>1.3</td>\n",
              "      <td>0.0</td>\n",
              "      <td>0.0</td>\n",
              "    </tr>\n",
              "    <tr>\n",
              "      <th>3</th>\n",
              "      <td>8</td>\n",
              "      <td>6</td>\n",
              "      <td>mar</td>\n",
              "      <td>fri</td>\n",
              "      <td>91.7</td>\n",
              "      <td>33.3</td>\n",
              "      <td>77.5</td>\n",
              "      <td>9.0</td>\n",
              "      <td>8.3</td>\n",
              "      <td>97</td>\n",
              "      <td>4.0</td>\n",
              "      <td>0.2</td>\n",
              "      <td>0.0</td>\n",
              "    </tr>\n",
              "    <tr>\n",
              "      <th>4</th>\n",
              "      <td>8</td>\n",
              "      <td>6</td>\n",
              "      <td>mar</td>\n",
              "      <td>sun</td>\n",
              "      <td>89.3</td>\n",
              "      <td>51.3</td>\n",
              "      <td>102.2</td>\n",
              "      <td>9.6</td>\n",
              "      <td>11.4</td>\n",
              "      <td>99</td>\n",
              "      <td>1.8</td>\n",
              "      <td>0.0</td>\n",
              "      <td>0.0</td>\n",
              "    </tr>\n",
              "  </tbody>\n",
              "</table>\n",
              "</div>"
            ],
            "text/plain": [
              "   X  Y month  day  FFMC   DMC     DC  ISI  temp  RH  wind  rain  area\n",
              "0  7  5   mar  fri  86.2  26.2   94.3  5.1   8.2  51   6.7   0.0   0.0\n",
              "1  7  4   oct  tue  90.6  35.4  669.1  6.7  18.0  33   0.9   0.0   0.0\n",
              "2  7  4   oct  sat  90.6  43.7  686.9  6.7  14.6  33   1.3   0.0   0.0\n",
              "3  8  6   mar  fri  91.7  33.3   77.5  9.0   8.3  97   4.0   0.2   0.0\n",
              "4  8  6   mar  sun  89.3  51.3  102.2  9.6  11.4  99   1.8   0.0   0.0"
            ]
          },
          "metadata": {
            "tags": []
          },
          "execution_count": 50
        }
      ]
    },
    {
      "metadata": {
        "id": "V7FL-Qp_G0LM",
        "colab_type": "code",
        "outputId": "6d76275d-41ea-426d-dd71-d7ac71f73eaf",
        "colab": {
          "base_uri": "https://localhost:8080/",
          "height": 233
        }
      },
      "cell_type": "code",
      "source": [
        "#month and day are of object type. Dummies should be created for each level(group) of the 'day' and 'month' column \n",
        "month=pd.get_dummies(df[\"month\"], prefix=\"month\", drop_first=False)\n",
        "df.drop(\"month\", inplace=True, axis=1)\n",
        "df=pd.concat([df, month], axis=1)\n",
        "df.head()\n",
        "\n",
        "day=pd.get_dummies(df[\"day\"], prefix=\"day\", drop_first=False)\n",
        "df.drop(\"day\", inplace=True, axis=1)\n",
        "df=pd.concat([df, day], axis=1)\n",
        "df.head()\n",
        "\n"
      ],
      "execution_count": 51,
      "outputs": [
        {
          "output_type": "execute_result",
          "data": {
            "text/html": [
              "<div>\n",
              "<style scoped>\n",
              "    .dataframe tbody tr th:only-of-type {\n",
              "        vertical-align: middle;\n",
              "    }\n",
              "\n",
              "    .dataframe tbody tr th {\n",
              "        vertical-align: top;\n",
              "    }\n",
              "\n",
              "    .dataframe thead th {\n",
              "        text-align: right;\n",
              "    }\n",
              "</style>\n",
              "<table border=\"1\" class=\"dataframe\">\n",
              "  <thead>\n",
              "    <tr style=\"text-align: right;\">\n",
              "      <th></th>\n",
              "      <th>X</th>\n",
              "      <th>Y</th>\n",
              "      <th>FFMC</th>\n",
              "      <th>DMC</th>\n",
              "      <th>DC</th>\n",
              "      <th>ISI</th>\n",
              "      <th>temp</th>\n",
              "      <th>RH</th>\n",
              "      <th>wind</th>\n",
              "      <th>rain</th>\n",
              "      <th>...</th>\n",
              "      <th>month_nov</th>\n",
              "      <th>month_oct</th>\n",
              "      <th>month_sep</th>\n",
              "      <th>day_fri</th>\n",
              "      <th>day_mon</th>\n",
              "      <th>day_sat</th>\n",
              "      <th>day_sun</th>\n",
              "      <th>day_thu</th>\n",
              "      <th>day_tue</th>\n",
              "      <th>day_wed</th>\n",
              "    </tr>\n",
              "  </thead>\n",
              "  <tbody>\n",
              "    <tr>\n",
              "      <th>0</th>\n",
              "      <td>7</td>\n",
              "      <td>5</td>\n",
              "      <td>86.2</td>\n",
              "      <td>26.2</td>\n",
              "      <td>94.3</td>\n",
              "      <td>5.1</td>\n",
              "      <td>8.2</td>\n",
              "      <td>51</td>\n",
              "      <td>6.7</td>\n",
              "      <td>0.0</td>\n",
              "      <td>...</td>\n",
              "      <td>0</td>\n",
              "      <td>0</td>\n",
              "      <td>0</td>\n",
              "      <td>1</td>\n",
              "      <td>0</td>\n",
              "      <td>0</td>\n",
              "      <td>0</td>\n",
              "      <td>0</td>\n",
              "      <td>0</td>\n",
              "      <td>0</td>\n",
              "    </tr>\n",
              "    <tr>\n",
              "      <th>1</th>\n",
              "      <td>7</td>\n",
              "      <td>4</td>\n",
              "      <td>90.6</td>\n",
              "      <td>35.4</td>\n",
              "      <td>669.1</td>\n",
              "      <td>6.7</td>\n",
              "      <td>18.0</td>\n",
              "      <td>33</td>\n",
              "      <td>0.9</td>\n",
              "      <td>0.0</td>\n",
              "      <td>...</td>\n",
              "      <td>0</td>\n",
              "      <td>1</td>\n",
              "      <td>0</td>\n",
              "      <td>0</td>\n",
              "      <td>0</td>\n",
              "      <td>0</td>\n",
              "      <td>0</td>\n",
              "      <td>0</td>\n",
              "      <td>1</td>\n",
              "      <td>0</td>\n",
              "    </tr>\n",
              "    <tr>\n",
              "      <th>2</th>\n",
              "      <td>7</td>\n",
              "      <td>4</td>\n",
              "      <td>90.6</td>\n",
              "      <td>43.7</td>\n",
              "      <td>686.9</td>\n",
              "      <td>6.7</td>\n",
              "      <td>14.6</td>\n",
              "      <td>33</td>\n",
              "      <td>1.3</td>\n",
              "      <td>0.0</td>\n",
              "      <td>...</td>\n",
              "      <td>0</td>\n",
              "      <td>1</td>\n",
              "      <td>0</td>\n",
              "      <td>0</td>\n",
              "      <td>0</td>\n",
              "      <td>1</td>\n",
              "      <td>0</td>\n",
              "      <td>0</td>\n",
              "      <td>0</td>\n",
              "      <td>0</td>\n",
              "    </tr>\n",
              "    <tr>\n",
              "      <th>3</th>\n",
              "      <td>8</td>\n",
              "      <td>6</td>\n",
              "      <td>91.7</td>\n",
              "      <td>33.3</td>\n",
              "      <td>77.5</td>\n",
              "      <td>9.0</td>\n",
              "      <td>8.3</td>\n",
              "      <td>97</td>\n",
              "      <td>4.0</td>\n",
              "      <td>0.2</td>\n",
              "      <td>...</td>\n",
              "      <td>0</td>\n",
              "      <td>0</td>\n",
              "      <td>0</td>\n",
              "      <td>1</td>\n",
              "      <td>0</td>\n",
              "      <td>0</td>\n",
              "      <td>0</td>\n",
              "      <td>0</td>\n",
              "      <td>0</td>\n",
              "      <td>0</td>\n",
              "    </tr>\n",
              "    <tr>\n",
              "      <th>4</th>\n",
              "      <td>8</td>\n",
              "      <td>6</td>\n",
              "      <td>89.3</td>\n",
              "      <td>51.3</td>\n",
              "      <td>102.2</td>\n",
              "      <td>9.6</td>\n",
              "      <td>11.4</td>\n",
              "      <td>99</td>\n",
              "      <td>1.8</td>\n",
              "      <td>0.0</td>\n",
              "      <td>...</td>\n",
              "      <td>0</td>\n",
              "      <td>0</td>\n",
              "      <td>0</td>\n",
              "      <td>0</td>\n",
              "      <td>0</td>\n",
              "      <td>0</td>\n",
              "      <td>1</td>\n",
              "      <td>0</td>\n",
              "      <td>0</td>\n",
              "      <td>0</td>\n",
              "    </tr>\n",
              "  </tbody>\n",
              "</table>\n",
              "<p>5 rows × 30 columns</p>\n",
              "</div>"
            ],
            "text/plain": [
              "   X  Y  FFMC   DMC     DC  ISI  temp  RH  wind  rain   ...     month_nov  \\\n",
              "0  7  5  86.2  26.2   94.3  5.1   8.2  51   6.7   0.0   ...             0   \n",
              "1  7  4  90.6  35.4  669.1  6.7  18.0  33   0.9   0.0   ...             0   \n",
              "2  7  4  90.6  43.7  686.9  6.7  14.6  33   1.3   0.0   ...             0   \n",
              "3  8  6  91.7  33.3   77.5  9.0   8.3  97   4.0   0.2   ...             0   \n",
              "4  8  6  89.3  51.3  102.2  9.6  11.4  99   1.8   0.0   ...             0   \n",
              "\n",
              "   month_oct  month_sep  day_fri  day_mon  day_sat  day_sun  day_thu  day_tue  \\\n",
              "0          0          0        1        0        0        0        0        0   \n",
              "1          1          0        0        0        0        0        0        1   \n",
              "2          1          0        0        0        1        0        0        0   \n",
              "3          0          0        1        0        0        0        0        0   \n",
              "4          0          0        0        0        0        1        0        0   \n",
              "\n",
              "   day_wed  \n",
              "0        0  \n",
              "1        0  \n",
              "2        0  \n",
              "3        0  \n",
              "4        0  \n",
              "\n",
              "[5 rows x 30 columns]"
            ]
          },
          "metadata": {
            "tags": []
          },
          "execution_count": 51
        }
      ]
    },
    {
      "metadata": {
        "id": "jX8zBpEx62fl",
        "colab_type": "code",
        "outputId": "af2466e1-7374-4135-e1b3-9e36ecb2231f",
        "colab": {
          "base_uri": "https://localhost:8080/",
          "height": 527
        }
      },
      "cell_type": "code",
      "source": [
        "\n",
        "#identifying the columns \n",
        "list(df)"
      ],
      "execution_count": 52,
      "outputs": [
        {
          "output_type": "execute_result",
          "data": {
            "text/plain": [
              "['X',\n",
              " 'Y',\n",
              " 'FFMC',\n",
              " 'DMC',\n",
              " 'DC',\n",
              " 'ISI',\n",
              " 'temp',\n",
              " 'RH',\n",
              " 'wind',\n",
              " 'rain',\n",
              " 'area',\n",
              " 'month_apr',\n",
              " 'month_aug',\n",
              " 'month_dec',\n",
              " 'month_feb',\n",
              " 'month_jan',\n",
              " 'month_jul',\n",
              " 'month_jun',\n",
              " 'month_mar',\n",
              " 'month_may',\n",
              " 'month_nov',\n",
              " 'month_oct',\n",
              " 'month_sep',\n",
              " 'day_fri',\n",
              " 'day_mon',\n",
              " 'day_sat',\n",
              " 'day_sun',\n",
              " 'day_thu',\n",
              " 'day_tue',\n",
              " 'day_wed']"
            ]
          },
          "metadata": {
            "tags": []
          },
          "execution_count": 52
        }
      ]
    },
    {
      "metadata": {
        "id": "kBG64cqdHAcw",
        "colab_type": "code",
        "outputId": "ac2d288c-30c6-4d39-a367-5886658c99ed",
        "colab": {
          "base_uri": "https://localhost:8080/",
          "height": 34
        }
      },
      "cell_type": "code",
      "source": [
        "features=['X',\n",
        " 'Y',\n",
        " 'FFMC',\n",
        " 'DMC',\n",
        " 'DC',\n",
        " 'ISI',\n",
        " 'temp',\n",
        " 'RH',\n",
        " 'wind',\n",
        " 'rain',\n",
        " 'month_apr',\n",
        " 'month_aug',\n",
        " 'month_dec',\n",
        " 'month_feb',\n",
        " 'month_jan',\n",
        " 'month_jul',\n",
        " 'month_jun',\n",
        " 'month_mar',\n",
        " 'month_may',\n",
        " 'month_nov',\n",
        " 'month_oct',\n",
        " 'month_sep',\n",
        " 'day_fri',\n",
        " 'day_mon',\n",
        " 'day_sat',\n",
        " 'day_sun',\n",
        " 'day_thu',\n",
        " 'day_tue',\n",
        " 'day_wed']\n",
        "\n",
        "#creating x and y variables \n",
        "x=df[features]\n",
        "y=df.area\n",
        "\n",
        "np.random.seed(1)\n",
        "\n",
        "#splitting the dataset into train and test data \n",
        "xTrain, xTest, yTrain, yTest = train_test_split(x, y, test_size=1/4)\n",
        "\n",
        "len(xTrain), len(xTest)"
      ],
      "execution_count": 53,
      "outputs": [
        {
          "output_type": "execute_result",
          "data": {
            "text/plain": [
              "(387, 130)"
            ]
          },
          "metadata": {
            "tags": []
          },
          "execution_count": 53
        }
      ]
    },
    {
      "metadata": {
        "id": "QNktjsB162fp",
        "colab_type": "code",
        "outputId": "5a0e3880-94fd-4608-ab59-89adfc1b3268",
        "colab": {
          "base_uri": "https://localhost:8080/",
          "height": 102
        }
      },
      "cell_type": "code",
      "source": [
        "#building the model\n",
        "from sklearn.tree import DecisionTreeRegressor\n",
        "\n",
        "reg = DecisionTreeRegressor(max_depth = 5)\n",
        "reg.fit(xTrain, yTrain)\n",
        "\n"
      ],
      "execution_count": 54,
      "outputs": [
        {
          "output_type": "execute_result",
          "data": {
            "text/plain": [
              "DecisionTreeRegressor(criterion='mse', max_depth=5, max_features=None,\n",
              "           max_leaf_nodes=None, min_impurity_decrease=0.0,\n",
              "           min_impurity_split=None, min_samples_leaf=1,\n",
              "           min_samples_split=2, min_weight_fraction_leaf=0.0,\n",
              "           presort=False, random_state=None, splitter='best')"
            ]
          },
          "metadata": {
            "tags": []
          },
          "execution_count": 54
        }
      ]
    },
    {
      "metadata": {
        "id": "YFLFd-3T62fw",
        "colab_type": "code",
        "outputId": "e1277792-9319-4ae7-8150-ac41dbbee67f",
        "colab": {
          "base_uri": "https://localhost:8080/",
          "height": 51
        }
      },
      "cell_type": "code",
      "source": [
        "#estimating accuracy of the tree \n",
        "from sklearn.metrics import mean_squared_error, mean_absolute_error \n",
        "import numpy as np \n",
        "\n",
        "yPred = reg.predict(xTest)\n",
        "rmse = np.sqrt(mean_squared_error(yTest, yPred))\n",
        "print(\"RMSE:\", rmse)\n",
        "\n",
        "mae = mean_absolute_error(yTest, yPred)\n",
        "print(\"MAE:\", mae)"
      ],
      "execution_count": 55,
      "outputs": [
        {
          "output_type": "stream",
          "text": [
            "RMSE: 75.55369103347283\n",
            "MAE: 21.691601490508706\n"
          ],
          "name": "stdout"
        }
      ]
    },
    {
      "metadata": {
        "id": "PgLweMpo62f1",
        "colab_type": "code",
        "outputId": "5217f225-74d6-4679-a92a-c1acf3b431f7",
        "colab": {
          "base_uri": "https://localhost:8080/",
          "height": 51
        }
      },
      "cell_type": "code",
      "source": [
        "#building a tree model with max_depth=15 \n",
        "reg1 = DecisionTreeRegressor(max_depth = 15)\n",
        "reg1.fit(xTrain, yTrain)\n",
        "\n",
        "yPred1 = reg1.predict(xTest)\n",
        "rmse1 = np.sqrt(mean_squared_error(yTest, yPred1))\n",
        "print(\"RMSE1:\", rmse1)\n",
        "\n",
        "mae1 = mean_absolute_error(yTest, yPred1)\n",
        "print(\"MAE1:\", mae1)\n"
      ],
      "execution_count": 56,
      "outputs": [
        {
          "output_type": "stream",
          "text": [
            "RMSE1: 71.70755260441435\n",
            "MAE1: 19.076226923076923\n"
          ],
          "name": "stdout"
        }
      ]
    },
    {
      "metadata": {
        "id": "GzItrvH762f7",
        "colab_type": "code",
        "outputId": "70842eb4-db5c-418b-9ffc-37bdf86ae1b4",
        "colab": {
          "base_uri": "https://localhost:8080/",
          "height": 51
        }
      },
      "cell_type": "code",
      "source": [
        "#building a tree model with max_depth=25\n",
        "reg2 = DecisionTreeRegressor(max_depth = 25)\n",
        "reg2.fit(xTrain, yTrain)\n",
        "\n",
        "yPred2 = reg2.predict(xTest)\n",
        "rmse2 = np.sqrt(mean_squared_error(yTest, yPred2))\n",
        "print(\"RMSE2:\", rmse2)\n",
        "\n",
        "mae2 = mean_absolute_error(yTest, yPred2)\n",
        "print(\"MAE2:\", mae2)"
      ],
      "execution_count": 57,
      "outputs": [
        {
          "output_type": "stream",
          "text": [
            "RMSE2: 77.0806088156069\n",
            "MAE2: 22.658\n"
          ],
          "name": "stdout"
        }
      ]
    },
    {
      "metadata": {
        "id": "r4q52dgo62f_",
        "colab_type": "code",
        "colab": {}
      },
      "cell_type": "code",
      "source": [
        "#max_depth=15 gives the best performing model with lowest RMSE and MAE performance scores"
      ],
      "execution_count": 0,
      "outputs": []
    }
  ]
}